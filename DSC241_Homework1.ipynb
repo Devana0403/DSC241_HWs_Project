{
 "cells": [
  {
   "cell_type": "markdown",
   "id": "eac928ef-0368-4974-975e-36a6f0344b60",
   "metadata": {},
   "source": [
    "## Q1 Unbiased Estimator of Variance\n",
    "\n",
    "Let  $X_1, X_2, ..., X_n $ be i.i.d. random variables with common mean $\\mu$ and variance $\\sigma^2 $. Define the sample mean as:\n",
    "\n",
    "$\n",
    "\\bar{X} = \\frac{1}{n} \\sum_{i=1}^{n} X_i\n",
    "$\n",
    "\n",
    "Show that the statistic $S^2 = \\frac{1}{n - 1} \\sum_{i=1}^{n} (X_i - \\bar{X})^2$ is an **unbiased estimator** of $\\sigma^2 $; that is, $\\mathbb{E}[S^2] = \\sigma^2$\n",
    "\n",
    "**Hint:** Define $ R_i = X_i - \\bar{X} $, and show that $\\mathrm{Var}(R_i) = \\frac{n - 1}{n} \\sigma^2$"
   ]
  },
  {
   "cell_type": "markdown",
   "id": "005c9a4b-6752-4a45-961d-307aa1b26648",
   "metadata": {},
   "source": [
    "### Solution:\n",
    "\n",
    "We know that,\n",
    "\n",
    "$\\mathrm{Var}(R_i) = \\mathrm{Var}(X_i - \\bar{X})$\n",
    "$= \\mathrm{Var}(X_i) + \\mathrm{Var}(\\bar{X}) - 2\\times\\mathrm{Cov}(X_i, \\bar{X})$\n",
    "\n",
    "Also,\n",
    "\n",
    "$\\mathrm{Cov}(X_i, \\bar{X}) = \\mathrm{Cov}(X_i, \\frac{1}{n} \\sum_{j=1}^{n} X_j)$\n",
    "$=\\frac{1}{n} \\sum_{j=1}^{n} \\mathrm{Cov}(X_i,X_j)$\n",
    "\n",
    "As $X_i$ is independent of all $X_j$; then for $j\\neq i \\text{ } \\mathrm{Cov}(X_i, X_j) = 0$, and for $ j = i \\text{ } \\mathrm{Cov}(X_i, X_i) = \\mathrm{Var}(X_i) = \\sigma^2$\n",
    "<br>\n",
    "Therefore,\n",
    "\n",
    "$\\mathrm{Cov}(X_i, \\bar{X}) = \\frac{1}{n} \\times (0 + \\sigma^2) = \\frac{\\sigma^2}{n}$ \n",
    "  \n",
    "Hence,\n",
    "\n",
    "$\\mathrm{Var}(R_i) = \\mathrm{Var}(X_i) + \\mathrm{Var}(\\bar{X}) - 2\\times\\frac{\\sigma^2}{n}$\n",
    "\n",
    "$\\mathrm{Var}(R_i) = \\sigma^2 + \\frac{\\sigma^2}{n} - \\frac{2\\sigma^2}{n}$\n",
    "\n",
    "$\\mathrm{Var}(R_i) = \\frac{n-1}{n}\\sigma^2$\n",
    "\n",
    "Using summation on both sides\n",
    "\n",
    "$\\sum_{i=1}^{n} \\mathrm{Var}(R_i) = \\sum_{i=1}^{n} \\frac{n-1}{n}\\sigma^2 = (n-1)\\sigma^2$ ...eqn 1\n",
    "\n",
    "\n",
    "Now,\n",
    "\n",
    "$\\mathrm{Var}(R_i) = \\mathbb{E}(R_i^2) - (\\mathbb{E}(R_i))^2$\n",
    "\n",
    "But we know that $\\mathbb{E}(R_i) = 0$, therefore,\n",
    "\n",
    "$\\mathrm{Var}(R_i) = \\mathbb{E}((X_i - \\bar{X})^2)$\n",
    "\n",
    "Now using summation on both sides\n",
    "\n",
    "$\\sum_{i=1}^{n} \\mathrm{Var}(R_i) = \\sum_{i=1}^{n} \\mathbb{E}((X_i - \\bar{X})^2) = \\mathbb{E}(\\sum_{i=1}^{n} (X_i - \\bar{X})^2)$ ...eqn 2\n",
    "\n",
    "\n",
    "Using eqn 1 and eqn 2\n",
    "\n",
    "$\\mathbb{E} (\\sum_{i=1}^{n} (X_i - \\bar{X})^2) = (n-1)\\sigma^2$\n",
    "\n",
    "\n",
    "From given $S^2 = \\frac{1}{n - 1} \\sum_{i=1}^{n} (X_i - \\bar{X})^2$, therefore\n",
    "\n",
    "$\\mathbb{E}(S^2) = \\frac{1}{n-1} \\mathbb{E} (\\sum_{i=1}^{n} (X_i - \\bar{X})^2) = \\frac{1}{n-1} (n-1)\\sigma^2$\n",
    "\n",
    "Therefore, $\\mathbb{E}(S^2) = \\sigma^2$ \n",
    "\n",
    "Hence proved that the sample variance is an unbiased estimator of $\\sigma^2$."
   ]
  },
  {
   "cell_type": "markdown",
   "id": "3162d633-59a3-4900-835d-0ecd5e6794a4",
   "metadata": {},
   "source": [
    "## Q2"
   ]
  },
  {
   "cell_type": "code",
   "execution_count": null,
   "id": "1802073e-ba18-4490-9c8a-24bb3bb7c44d",
   "metadata": {},
   "outputs": [],
   "source": []
  },
  {
   "cell_type": "markdown",
   "id": "b932544c-e10b-49ff-bae5-dfd89c802ec9",
   "metadata": {},
   "source": [
    "## Q3"
   ]
  },
  {
   "cell_type": "code",
   "execution_count": 4,
   "id": "2b564aa2-6a82-4f4c-9033-771d0097deb3",
   "metadata": {},
   "outputs": [
    {
     "name": "stdout",
     "output_type": "stream",
     "text": [
      "Pointwise band covered true line in 0.867 of runs\n",
      "Simultaneous band covered true line in 1 of runs\n"
     ]
    }
   ],
   "source": [
    "set.seed(42)\n",
    "\n",
    "# Parameters\n",
    "n <- 100\n",
    "N <- 1000\n",
    "alpha <- 0.05\n",
    "sigma2 <- 0.2\n",
    "beta <- c(3, 0.5)\n",
    "\n",
    "# Fixed design\n",
    "x <- sort(runif(n))\n",
    "X <- cbind(1, x)  # design matrix\n",
    "p <- ncol(X)\n",
    "\n",
    "# Containers for results\n",
    "pointwise_hits <- 0\n",
    "simultaneous_hits <- 0\n",
    "\n",
    "for (i in 1:N) {\n",
    "    \n",
    "  epsilon <- rnorm(n, mean = 0, sd = sqrt(sigma2))\n",
    "  y <- X %*% beta + epsilon\n",
    "\n",
    "  # Fitting linear model\n",
    "  fit <- lm(y ~ x)\n",
    "  beta_hat <- coef(fit)\n",
    "  y_hat <- X %*% beta_hat\n",
    "\n",
    "  # Estimating sigma^2\n",
    "  sigma_hat <- summary(fit)$sigma\n",
    "\n",
    "  # Compute (X^T X)^-1\n",
    "  XtX_inv <- solve(t(X) %*% X)\n",
    "\n",
    "  # Standard error of x^T beta_hat at each x\n",
    "  SE_vec <- sqrt(rowSums((X %*% XtX_inv) * X)) * sigma_hat\n",
    "\n",
    "  # Pointwise t-quantile\n",
    "  t_pointwise <- qt(1 - alpha / 2, df = n - p)\n",
    "\n",
    "  # Pointwise CI\n",
    "  lower_pw <- y_hat - t_pointwise * SE_vec\n",
    "  upper_pw <- y_hat + t_pointwise * SE_vec\n",
    "\n",
    "  # Check if true values are inside pointwise band\n",
    "  mu_true <- X %*% beta\n",
    "  pointwise_hits <- pointwise_hits + all(mu_true >= lower_pw & mu_true <= upper_pw)\n",
    "\n",
    "  t_simul <- qt(1 - alpha / (2 * n), df = n - p)\n",
    "\n",
    "  lower_sim <- y_hat - t_simul * SE_vec\n",
    "  upper_sim <- y_hat + t_simul * SE_vec\n",
    "\n",
    "  # Check if true line is fully inside simultaneous band\n",
    "  simultaneous_hits <- simultaneous_hits + all(mu_true >= lower_sim & mu_true <= upper_sim)\n",
    "}\n",
    "\n",
    "# Output proportions\n",
    "cat(\"Pointwise band covered true line in\", pointwise_hits / N, \"of runs\\n\")\n",
    "cat(\"Simultaneous band covered true line in\", simultaneous_hits / N, \"of runs\\n\")\n"
   ]
  },
  {
   "cell_type": "code",
   "execution_count": 5,
   "id": "8e2670b5-04e8-4a5a-95de-9850f525d79a",
   "metadata": {},
   "outputs": [],
   "source": [
    "## Have to write the explanation"
   ]
  },
  {
   "cell_type": "code",
   "execution_count": null,
   "id": "a496d848-d55c-4a86-9ee8-eacdaec8a806",
   "metadata": {},
   "outputs": [],
   "source": []
  }
 ],
 "metadata": {
  "kernelspec": {
   "display_name": "R",
   "language": "R",
   "name": "ir"
  },
  "language_info": {
   "codemirror_mode": "r",
   "file_extension": ".r",
   "mimetype": "text/x-r-source",
   "name": "R",
   "pygments_lexer": "r",
   "version": "4.3.3"
  }
 },
 "nbformat": 4,
 "nbformat_minor": 5
}
